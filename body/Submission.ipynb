{
 "cells": [
  {
   "cell_type": "code",
   "execution_count": null,
   "id": "6e245323-9f9f-4720-bab7-c99383592d32",
   "metadata": {},
   "outputs": [],
   "source": [
    "from flask import Flask, request, jsonify\n",
    "from threading import Thread\n",
    "import json"
   ]
  },
  {
   "cell_type": "code",
   "execution_count": null,
   "id": "9a6bf88c-6b2b-46b8-87e9-47b496692557",
   "metadata": {},
   "outputs": [],
   "source": [
    "app = Flask(__name__)\n",
    "received_data = []"
   ]
  },
  {
   "cell_type": "code",
   "execution_count": null,
   "id": "258cbc0b-107a-4639-ab5f-a21731e194c3",
   "metadata": {},
   "outputs": [],
   "source": [
    "def your_meeting_assistant(data): \n",
    "    # Your Agentic AI Calls \n",
    "    data[\"EventStart\"] = \"\"\n",
    "    data[\"EventEnd\"] = \"\"\n",
    "    data[\"Duration_mins\"] = \"\"\n",
    "    return data"
   ]
  },
  {
   "cell_type": "code",
   "execution_count": null,
   "id": "f8a4f048-22da-443c-a2f0-219a723a8dad",
   "metadata": {},
   "outputs": [],
   "source": [
    "@app.route('/receive', methods=['POST'])\n",
    "def receive():\n",
    "    data = request.get_json()\n",
    "    print(f\"\\n Received: {json.dumps(data, indent=2)}\")\n",
    "    new_data = your_meeting_assistant(data)  # Your AI Meeting Assistant Function Call\n",
    "    received_data.append(data)\n",
    "    print(f\"\\n\\n\\n Sending:\\n {json.dumps(new_data, indent=2)}\")\n",
    "    return jsonify(new_data)\n",
    "\n",
    "def run_flask():\n",
    "    app.run(host='0.0.0.0', port=5000)"
   ]
  },
  {
   "cell_type": "code",
   "execution_count": null,
   "id": "9a603634",
   "metadata": {},
   "outputs": [],
   "source": [
    "# Start Flask in a background thread\n",
    "Thread(target=run_flask, daemon=True).start()"
   ]
  }
 ],
 "metadata": {
  "kernelspec": {
   "display_name": "Python 3 (ipykernel)",
   "language": "python",
   "name": "python3"
  },
  "language_info": {
   "codemirror_mode": {
    "name": "ipython",
    "version": 3
   },
   "file_extension": ".py",
   "mimetype": "text/x-python",
   "name": "python",
   "nbconvert_exporter": "python",
   "pygments_lexer": "ipython3",
   "version": "3.11.5"
  }
 },
 "nbformat": 4,
 "nbformat_minor": 5
}
