{
 "cells": [
  {
   "cell_type": "markdown",
   "id": "1cb893cc",
   "metadata": {},
   "source": [
    "## <span style=\"color: blue;\"> Test Case 1 : ( USERTWO & USERTHREE are available ) "
   ]
  },
  {
   "cell_type": "markdown",
   "id": "4b580926",
   "metadata": {},
   "source": [
    "### Input :"
   ]
  },
  {
   "cell_type": "markdown",
   "id": "cac89f45",
   "metadata": {},
   "source": [
    "```\n",
    "{\n",
    "    \"Request_id\": \"6118b54f-907b-4451-8d48-dd13d76033a5\",\n",
    "    \"Datetime\": \"02-07-2025T12:34:55\",\n",
    "    \"Location\": \"IIT Mumbai\",\n",
    "    \"From\": \"userone.amd@gmail.com\",\n",
    "    \"Attendees\": [\n",
    "        {\n",
    "            \"email\": \"usertwo.amd@gmail.com\"\n",
    "        },\n",
    "        {\n",
    "            \"email\": \"userthree.amd@gmail.com\"\n",
    "        }\n",
    "    ],\n",
    "    \"EmailContent\": \"Hi Team. Let's meet next Thursday and discuss about our Goals.\"\n",
    "}\n",
    "```"
   ]
  },
  {
   "cell_type": "markdown",
   "id": "be6edb22",
   "metadata": {},
   "source": [
    "--------"
   ]
  },
  {
   "cell_type": "markdown",
   "id": "924d7565",
   "metadata": {},
   "source": [
    "## <span style=\"color: blue;\"> Test Case 2 :  ( USERTWO is available but USERTHREE is busy ) "
   ]
  },
  {
   "cell_type": "markdown",
   "id": "82a935f5",
   "metadata": {},
   "source": [
    "### Input :"
   ]
  },
  {
   "cell_type": "markdown",
   "id": "acc3a824",
   "metadata": {},
   "source": [
    "```\n",
    "{\n",
    "    \"Request_id\": \"6118b54f-907b-4451-8d48-dd13d76033b5\",\n",
    "    \"Datetime\": \"02-07-2025T12:34:55\",\n",
    "    \"Location\": \"IIT Mumbai\",\n",
    "    \"From\": \"userone.amd@gmail.com\",\n",
    "    \"Attendees\": [\n",
    "        {\n",
    "            \"email\": \"usertwo.amd@gmail.com\"\n",
    "        },\n",
    "        {\n",
    "            \"email\": \"userthree.amd@gmail.com\"\n",
    "        }\n",
    "    ],\n",
    "    \"EmailContent\": \"Hi Team. We’ve just received quick feedback from the client indicating that the instructions we provided aren’t working on their end. Let’s prioritize resolving this promptly. Let’s meet Monday at 9:00 AM to discuss and resolve this issue.\"\n",
    "}\n",
    "```"
   ]
  },
  {
   "cell_type": "markdown",
   "id": "b0304b34",
   "metadata": {},
   "source": [
    "#### <span style=\"color: red;\"> ( USERTWO having 1v1 with other Team Member. ) "
   ]
  },
  {
   "cell_type": "markdown",
   "id": "1e698557",
   "metadata": {},
   "source": [
    "---------"
   ]
  },
  {
   "cell_type": "markdown",
   "id": "3c56a2b5",
   "metadata": {},
   "source": [
    "## <span style=\"color: blue;\"> Test Case 3 :  ( Both USERTWO & USERTHREE are busy ) "
   ]
  },
  {
   "cell_type": "markdown",
   "id": "72673cad",
   "metadata": {},
   "source": [
    "### Input :"
   ]
  },
  {
   "cell_type": "markdown",
   "id": "b8e51d20",
   "metadata": {},
   "source": [
    "```\n",
    "{\n",
    "    \"Request_id\": \"6118b54f-907b-4451-8d48-dd13d76033c5\",\n",
    "    \"Datetime\": \"02-07-2025T12:34:55\",\n",
    "    \"Location\": \"IIT Mumbai\",\n",
    "    \"From\": \"userone.amd@gmail.com\",\n",
    "    \"Attendees\": [\n",
    "        {\n",
    "            \"email\": \"usertwo.amd@gmail.com\"\n",
    "        },\n",
    "        {\n",
    "            \"email\": \"userthree.amd@gmail.com\"\n",
    "        }\n",
    "    ],\n",
    "    \"EmailContent\": \"Hi Team. Let's meet on Tuesday at 11:00 A.M and discuss about our on-going Projects.\"\n",
    "}\n",
    "```"
   ]
  },
  {
   "cell_type": "markdown",
   "id": "82edfdc8",
   "metadata": {},
   "source": [
    "#### <span style=\"color: red;\"> ( Both USERONE & USERTWO attending AMD AI Workshop, from morning to evening. ) "
   ]
  },
  {
   "cell_type": "markdown",
   "id": "8b99cad8",
   "metadata": {},
   "source": [
    "------------"
   ]
  },
  {
   "cell_type": "markdown",
   "id": "5ae9f16f",
   "metadata": {},
   "source": [
    "## <span style=\"color: blue;\"> Test Case 4 :  ( USERTWO is free but USERTHREE is busy ) "
   ]
  },
  {
   "cell_type": "markdown",
   "id": "0e322caa",
   "metadata": {},
   "source": [
    "### Input :"
   ]
  },
  {
   "cell_type": "markdown",
   "id": "8eca893a",
   "metadata": {},
   "source": [
    "```\n",
    "{\n",
    "    \"Request_id\": \"6118b54f-907b-4451-8d48-dd13d76033d5\",\n",
    "    \"Datetime\": \"02-07-2025T12:34:55\",\n",
    "    \"Location\": \"IIT Mumbai\",\n",
    "    \"From\": \"userone.amd@gmail.com\",\n",
    "    \"Attendees\": [\n",
    "        {\n",
    "            \"email\": \"usertwo.amd@gmail.com\"\n",
    "        },\n",
    "        {\n",
    "            \"email\": \"userthree.amd@gmail.com\"\n",
    "        }\n",
    "    ],\n",
    "    \"EmailContent\": \"Hi Team. We’ve received the final feedback from the client. Let’s review it together and plan next steps. Let's meet on Wednesday at 10:00 A.M.\"\n",
    "```"
   ]
  },
  {
   "cell_type": "markdown",
   "id": "646d9978",
   "metadata": {},
   "source": [
    "#### <span style=\"color: red;\"> ( USERTWO is attending meeting with Customers. ) "
   ]
  },
  {
   "cell_type": "markdown",
   "id": "c1cc7233",
   "metadata": {},
   "source": [
    "-------"
   ]
  }
 ],
 "metadata": {
  "kernelspec": {
   "display_name": "Python 3 (ipykernel)",
   "language": "python",
   "name": "python3"
  },
  "language_info": {
   "codemirror_mode": {
    "name": "ipython",
    "version": 3
   },
   "file_extension": ".py",
   "mimetype": "text/x-python",
   "name": "python",
   "nbconvert_exporter": "python",
   "pygments_lexer": "ipython3",
   "version": "3.11.5"
  }
 },
 "nbformat": 4,
 "nbformat_minor": 5
}
